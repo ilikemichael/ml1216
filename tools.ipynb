{
  "nbformat": 4,
  "nbformat_minor": 0,
  "metadata": {
    "colab": {
      "name": "tools.ipynb",
      "provenance": [],
      "authorship_tag": "ABX9TyNYzfcY5xKTtFz7VMfNDDlp",
      "include_colab_link": true
    },
    "kernelspec": {
      "name": "python3",
      "display_name": "Python 3"
    }
  },
  "cells": [
    {
      "cell_type": "markdown",
      "metadata": {
        "id": "view-in-github",
        "colab_type": "text"
      },
      "source": [
        "<a href=\"https://colab.research.google.com/github/ilikemichael/ml1216/blob/main/tools.ipynb\" target=\"_parent\"><img src=\"https://colab.research.google.com/assets/colab-badge.svg\" alt=\"Open In Colab\"/></a>"
      ]
    },
    {
      "cell_type": "code",
      "metadata": {
        "colab": {
          "base_uri": "https://localhost:8080/"
        },
        "id": "jUrwPV32x8B3",
        "outputId": "d2b27ccd-2043-425c-cc2d-16d785e80b8d"
      },
      "source": [
        "!pip install opencc-python-reimplemented\r\n"
      ],
      "execution_count": 4,
      "outputs": [
        {
          "output_type": "stream",
          "text": [
            "Requirement already satisfied: opencc-python-reimplemented in /usr/local/lib/python3.6/dist-packages (0.1.6)\n"
          ],
          "name": "stdout"
        }
      ]
    },
    {
      "cell_type": "code",
      "metadata": {
        "id": "4-avKYlRzOTL"
      },
      "source": [
        "s = \"\"\" 据报道，这两人在拜登竞选期间都提供了支持，并且向拜登捐了款。不过，拜登过渡团队已经对此报道作出回应，称目前讨论任何大使任命都“为时过早”\"\"\""
      ],
      "execution_count": 5,
      "outputs": []
    },
    {
      "cell_type": "code",
      "metadata": {
        "colab": {
          "base_uri": "https://localhost:8080/",
          "height": 35
        },
        "id": "Ij9sTI9lyz0J",
        "outputId": "752b67cb-030d-4d06-bb06-617bf23e13d0"
      },
      "source": [
        "from opencc import OpenCC\r\n",
        "converter = OpenCC(\"s2twp\")\r\n",
        "converter.convert(s)"
      ],
      "execution_count": 6,
      "outputs": [
        {
          "output_type": "execute_result",
          "data": {
            "application/vnd.google.colaboratory.intrinsic+json": {
              "type": "string"
            },
            "text/plain": [
              "' 據報道，這兩人在拜登競選期間都提供了支援，並且向拜登捐了款。不過，拜登過渡團隊已經對此報道作出迴應，稱目前討論任何大使任命都“為時過早”'"
            ]
          },
          "metadata": {
            "tags": []
          },
          "execution_count": 6
        }
      ]
    }
  ]
}