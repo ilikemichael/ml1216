{
  "nbformat": 4,
  "nbformat_minor": 0,
  "metadata": {
    "colab": {
      "name": "cluster.ipynb",
      "private_outputs": true,
      "provenance": [],
      "authorship_tag": "ABX9TyNFSLUshWYSYibqBfUG3Q0a",
      "include_colab_link": true
    },
    "kernelspec": {
      "name": "python3",
      "display_name": "Python 3"
    }
  },
  "cells": [
    {
      "cell_type": "markdown",
      "metadata": {
        "id": "view-in-github",
        "colab_type": "text"
      },
      "source": [
        "<a href=\"https://colab.research.google.com/github/ilikemichael/ml1216/blob/main/cluster.ipynb\" target=\"_parent\"><img src=\"https://colab.research.google.com/assets/colab-badge.svg\" alt=\"Open In Colab\"/></a>"
      ]
    },
    {
      "cell_type": "code",
      "metadata": {
        "id": "2bhVen9pEZYM"
      },
      "source": [
        "import pandas as pd\r\n",
        "from sklearn.datasets import load_iris\r\n",
        "iris = load_iris()\r\n",
        "df = pd.DataFrame(iris[\"data\"], \r\n",
        "       columns=iris[\"feature_names\"])\r\n",
        "#df[\"ans\"] = iris[\"target\"]\r\n",
        "df.to_csv(\"iris.csv\", encoding=\"utf-8\", index=False)\r\n",
        "df"
      ],
      "execution_count": null,
      "outputs": []
    },
    {
      "cell_type": "markdown",
      "metadata": {
        "id": "i-P8RI6OKZTk"
      },
      "source": [
        "list, or pandas 全部改成 numpy"
      ]
    },
    {
      "cell_type": "code",
      "metadata": {
        "id": "rQz9GI3-XnB-"
      },
      "source": [
        "from sklearn.cluster import KMeans\r\n",
        "cluster = KMeans(n_clusters=3)\r\n",
        "cluster.fit(iris[\"data\"])"
      ],
      "execution_count": null,
      "outputs": []
    },
    {
      "cell_type": "code",
      "metadata": {
        "id": "y5O3yVi_mXAe"
      },
      "source": [
        "df[\"label\"] = cluster.labels_\r\n",
        "df"
      ],
      "execution_count": null,
      "outputs": []
    },
    {
      "cell_type": "markdown",
      "metadata": {
        "id": "ehrGYVMYnzWW"
      },
      "source": [
        "找出3組圓心位置,每一個list就是一個圓心位置"
      ]
    },
    {
      "cell_type": "code",
      "metadata": {
        "id": "65cFoEcwnEiV"
      },
      "source": [
        "cluster.cluster_centers_"
      ],
      "execution_count": null,
      "outputs": []
    }
  ]
}