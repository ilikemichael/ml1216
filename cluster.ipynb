{
  "nbformat": 4,
  "nbformat_minor": 0,
  "metadata": {
    "colab": {
      "name": "cluster.ipynb",
      "private_outputs": true,
      "provenance": [],
      "authorship_tag": "ABX9TyOl4zH+cX3ic47M0uMMIyBu",
      "include_colab_link": true
    },
    "kernelspec": {
      "name": "python3",
      "display_name": "Python 3"
    }
  },
  "cells": [
    {
      "cell_type": "markdown",
      "metadata": {
        "id": "view-in-github",
        "colab_type": "text"
      },
      "source": [
        "<a href=\"https://colab.research.google.com/github/ilikemichael/ml1216/blob/main/cluster.ipynb\" target=\"_parent\"><img src=\"https://colab.research.google.com/assets/colab-badge.svg\" alt=\"Open In Colab\"/></a>"
      ]
    },
    {
      "cell_type": "code",
      "metadata": {
        "id": "2bhVen9pEZYM"
      },
      "source": [
        "import pandas as pd\r\n",
        "from sklearn.datasets import load_iris\r\n",
        "iris = load_iris()\r\n",
        "df = pd.DataFrame(iris[\"data\"], \r\n",
        "       columns=iris[\"feature_names\"])\r\n",
        "#df[\"ans\"] = iris[\"target\"]\r\n",
        "df.to_csv(\"iris.csv\", encoding=\"utf-8\", index=False)\r\n",
        "df"
      ],
      "execution_count": null,
      "outputs": []
    },
    {
      "cell_type": "markdown",
      "metadata": {
        "id": "i-P8RI6OKZTk"
      },
      "source": [
        "list, or pandas 全部改成 numpy"
      ]
    }
  ]
}