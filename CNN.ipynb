{
  "nbformat": 4,
  "nbformat_minor": 0,
  "metadata": {
    "colab": {
      "name": "CNN.ipynb",
      "provenance": [],
      "authorship_tag": "ABX9TyMYhE0rld3aFQbOj9Y5WGHC",
      "include_colab_link": true
    },
    "kernelspec": {
      "name": "python3",
      "display_name": "Python 3"
    },
    "accelerator": "GPU"
  },
  "cells": [
    {
      "cell_type": "markdown",
      "metadata": {
        "id": "view-in-github",
        "colab_type": "text"
      },
      "source": [
        "<a href=\"https://colab.research.google.com/github/ilikemichael/ml1216/blob/main/CNN.ipynb\" target=\"_parent\"><img src=\"https://colab.research.google.com/assets/colab-badge.svg\" alt=\"Open In Colab\"/></a>"
      ]
    },
    {
      "cell_type": "code",
      "metadata": {
        "id": "tPMlW7jq0bJY",
        "colab": {
          "base_uri": "https://localhost:8080/"
        },
        "outputId": "9d8b277b-3c36-491b-9a70-800f87520df3"
      },
      "source": [
        "from tensorflow.keras.datasets.cifar10 import load_data\r\n",
        "(x_train, y_train), (x_test, y_test) = load_data()"
      ],
      "execution_count": 1,
      "outputs": [
        {
          "output_type": "stream",
          "text": [
            "Downloading data from https://www.cs.toronto.edu/~kriz/cifar-10-python.tar.gz\n",
            "170500096/170498071 [==============================] - 2s 0us/step\n"
          ],
          "name": "stdout"
        }
      ]
    },
    {
      "cell_type": "code",
      "metadata": {
        "colab": {
          "base_uri": "https://localhost:8080/"
        },
        "id": "0v-N_4Xu08Ay",
        "outputId": "5c7a018f-735e-4fc5-e7b9-2346e6b429dd"
      },
      "source": [
        "# mnist: 必須要reshape(6000, 28, 28, 1), 注意這裡跟MLP不一樣, 這裡面是一個list, 裡面只有一個\r\n",
        "print(x_train.shape)\r\n",
        "print(y_train.shape)\r\n",
        "print(x_test.shape)\r\n",
        "print(y_test.shape)"
      ],
      "execution_count": 2,
      "outputs": [
        {
          "output_type": "stream",
          "text": [
            "(50000, 32, 32, 3)\n",
            "(50000, 1)\n",
            "(10000, 32, 32, 3)\n",
            "(10000, 1)\n"
          ],
          "name": "stdout"
        }
      ]
    },
    {
      "cell_type": "code",
      "metadata": {
        "id": "nsDbUkAW8SpE"
      },
      "source": [
        "labels = [\r\n",
        "    \"airplane\",\r\n",
        "    \"automobile\",\r\n",
        "    \"bird\",\r\n",
        "    \"cat\",\r\n",
        "    \"deer\",\r\n",
        "    \"dog\",\r\n",
        "    \"frog\",\r\n",
        "    \"horse\",\r\n",
        "    \"ship\",\r\n",
        "    \"truck\"     \r\n",
        "]"
      ],
      "execution_count": 3,
      "outputs": []
    },
    {
      "cell_type": "code",
      "metadata": {
        "colab": {
          "base_uri": "https://localhost:8080/",
          "height": 300
        },
        "id": "nS-Upzix1nmG",
        "outputId": "33bb48c1-a00a-4aea-bdae-301b65f9664b"
      },
      "source": [
        "import matplotlib.pyplot as plt\r\n",
        "import random\r\n",
        "idx = random.randint(0, 49999)\r\n",
        "print(labels[y_train[idx][0]])\r\n",
        "plt.imshow(x_train[idx])"
      ],
      "execution_count": 4,
      "outputs": [
        {
          "output_type": "stream",
          "text": [
            "airplane\n"
          ],
          "name": "stdout"
        },
        {
          "output_type": "execute_result",
          "data": {
            "text/plain": [
              "<matplotlib.image.AxesImage at 0x7f0fd638a128>"
            ]
          },
          "metadata": {
            "tags": []
          },
          "execution_count": 4
        },
        {
          "output_type": "display_data",
          "data": {
            "image/png": "[encoded data removed]",
            "text/plain": [
              "<Figure size 432x288 with 1 Axes>"
            ]
          },
          "metadata": {
            "tags": [],
            "needs_background": "light"
          }
        }
      ]
    },
    {
      "cell_type": "code",
      "metadata": {
        "id": "7jugdsYl8aNT",
        "colab": {
          "base_uri": "https://localhost:8080/"
        },
        "outputId": "0cc8dbd4-192a-484b-9f83-6aa10fdd6330"
      },
      "source": [
        "\r\n",
        "from tensorflow.keras.models import Sequential\r\n",
        "from tensorflow.keras.layers import Conv2D, MaxPooling2D\r\n",
        "from tensorflow.keras.layers import Dense, Dropout, Flatten\r\n",
        "layers = [\r\n",
        "    #1個filter(3 * 3 * 3) * 64個深度 + 64(bias) = 1792\r\n",
        "    Conv2D(64, 3, activation=\"relu\", padding=\"same\", input_shape=(32, 32, 3)),\r\n",
        "    MaxPooling2D(),\r\n",
        "    # 1(3 * 3 * 64) * 128個 + 128(bias) = 73856\r\n",
        "    Conv2D(128, 3, activation=\"relu\", padding=\"same\"),\r\n",
        "    MaxPooling2D(),\r\n",
        "    Conv2D(256, 3, activation=\"relu\", padding=\"same\"),\r\n",
        "    MaxPooling2D(),\r\n",
        "    Flatten(),\r\n",
        "    Dense(256, activation=\"relu\"),\r\n",
        "    Dropout(0.25),\r\n",
        "    Dense(10, activation=\"softmax\")\r\n",
        "]\r\n",
        "model = Sequential(layers)\r\n",
        "model.summary()"
      ],
      "execution_count": 5,
      "outputs": [
        {
          "output_type": "stream",
          "text": [
            "Model: \"sequential\"\n",
            "_________________________________________________________________\n",
            "Layer (type)                 Output Shape              Param #   \n",
            "=================================================================\n",
            "conv2d (Conv2D)              (None, 32, 32, 64)        1792      \n",
            "_________________________________________________________________\n",
            "max_pooling2d (MaxPooling2D) (None, 16, 16, 64)        0         \n",
            "_________________________________________________________________\n",
            "conv2d_1 (Conv2D)            (None, 16, 16, 128)       73856     \n",
            "_________________________________________________________________\n",
            "max_pooling2d_1 (MaxPooling2 (None, 8, 8, 128)         0         \n",
            "_________________________________________________________________\n",
            "conv2d_2 (Conv2D)            (None, 8, 8, 256)         295168    \n",
            "_________________________________________________________________\n",
            "max_pooling2d_2 (MaxPooling2 (None, 4, 4, 256)         0         \n",
            "_________________________________________________________________\n",
            "flatten (Flatten)            (None, 4096)              0         \n",
            "_________________________________________________________________\n",
            "dense (Dense)                (None, 256)               1048832   \n",
            "_________________________________________________________________\n",
            "dropout (Dropout)            (None, 256)               0         \n",
            "_________________________________________________________________\n",
            "dense_1 (Dense)              (None, 10)                2570      \n",
            "=================================================================\n",
            "Total params: 1,422,218\n",
            "Trainable params: 1,422,218\n",
            "Non-trainable params: 0\n",
            "_________________________________________________________________\n"
          ],
          "name": "stdout"
        }
      ]
    },
    {
      "cell_type": "code",
      "metadata": {
        "id": "buEnzOF4G3f-"
      },
      "source": [
        "\r\n",
        "x_train_norm = x_train / 255\r\n",
        "x_test_norm = x_test / 255"
      ],
      "execution_count": 6,
      "outputs": []
    },
    {
      "cell_type": "code",
      "metadata": {
        "id": "3w_X6YFrG5wL"
      },
      "source": [
        "\r\n",
        "from tensorflow.keras.losses import SparseCategoricalCrossentropy\r\n",
        "model.compile(loss=SparseCategoricalCrossentropy(),\r\n",
        "       optimizer=\"adam\",\r\n",
        "       metrics=[\"accuracy\"])"
      ],
      "execution_count": 7,
      "outputs": []
    },
    {
      "cell_type": "code",
      "metadata": {
        "colab": {
          "base_uri": "https://localhost:8080/"
        },
        "id": "g0Pfixb0G7vI",
        "outputId": "ad7c4918-dc2e-4f8b-a3a0-210816038412"
      },
      "source": [
        "\r\n",
        "from tensorflow.keras.callbacks import ModelCheckpoint, EarlyStopping\r\n",
        "callbacks = [\r\n",
        "    EarlyStopping(patience=5, restore_best_weights=True),\r\n",
        "    ModelCheckpoint(\"model.h5\", save_best_only=True)\r\n",
        "]\r\n",
        "# validation_split: 切出一部分資料驗證\r\n",
        "# batch_size: 看多少筆才做一次調整(梯度下降)\r\n",
        "# epochs: 訓練次數(60000-6000筆/epoch)\r\n",
        "# 1 epoch 多少次梯度下降: 54000 / 200 -> 270\r\n",
        "# verbose: 印出多少log(1:default 0:quiet 2:)\r\n",
        "model.fit(x_train_norm, \r\n",
        "     y_train,\r\n",
        "     validation_split=0.1,\r\n",
        "     batch_size=200,\r\n",
        "     epochs=50,\r\n",
        "     verbose=2,\r\n",
        "     callbacks=callbacks)"
      ],
      "execution_count": 8,
      "outputs": [
        {
          "output_type": "stream",
          "text": [
            "Epoch 1/50\n",
            "225/225 - 10s - loss: 1.5705 - accuracy: 0.4271 - val_loss: 1.2415 - val_accuracy: 0.5608\n",
            "Epoch 2/50\n",
            "225/225 - 3s - loss: 1.1384 - accuracy: 0.5961 - val_loss: 0.9823 - val_accuracy: 0.6542\n",
            "Epoch 3/50\n",
            "225/225 - 3s - loss: 0.9342 - accuracy: 0.6719 - val_loss: 0.8109 - val_accuracy: 0.7214\n",
            "Epoch 4/50\n",
            "225/225 - 3s - loss: 0.8003 - accuracy: 0.7206 - val_loss: 0.7526 - val_accuracy: 0.7416\n",
            "Epoch 5/50\n",
            "225/225 - 3s - loss: 0.6909 - accuracy: 0.7599 - val_loss: 0.7422 - val_accuracy: 0.7484\n",
            "Epoch 6/50\n",
            "225/225 - 3s - loss: 0.6149 - accuracy: 0.7882 - val_loss: 0.6786 - val_accuracy: 0.7678\n",
            "Epoch 7/50\n",
            "225/225 - 3s - loss: 0.5359 - accuracy: 0.8128 - val_loss: 0.6728 - val_accuracy: 0.7806\n",
            "Epoch 8/50\n",
            "225/225 - 3s - loss: 0.4614 - accuracy: 0.8386 - val_loss: 0.6918 - val_accuracy: 0.7802\n",
            "Epoch 9/50\n",
            "225/225 - 3s - loss: 0.3920 - accuracy: 0.8609 - val_loss: 0.6842 - val_accuracy: 0.7754\n",
            "Epoch 10/50\n",
            "225/225 - 3s - loss: 0.3240 - accuracy: 0.8877 - val_loss: 0.6947 - val_accuracy: 0.7852\n",
            "Epoch 11/50\n",
            "225/225 - 3s - loss: 0.2758 - accuracy: 0.9034 - val_loss: 0.7105 - val_accuracy: 0.7882\n",
            "Epoch 12/50\n",
            "225/225 - 3s - loss: 0.2245 - accuracy: 0.9217 - val_loss: 0.7735 - val_accuracy: 0.7834\n"
          ],
          "name": "stdout"
        },
        {
          "output_type": "execute_result",
          "data": {
            "text/plain": [
              "<tensorflow.python.keras.callbacks.History at 0x7f101f8195c0>"
            ]
          },
          "metadata": {
            "tags": []
          },
          "execution_count": 8
        }
      ]
    },
    {
      "cell_type": "code",
      "metadata": {
        "colab": {
          "base_uri": "https://localhost:8080/"
        },
        "id": "F05vw4P2G-WQ",
        "outputId": "697584b4-7f0b-4b9b-ab30-2811661e6b2b"
      },
      "source": [
        "model.evaluate(x_test_norm, y_test)"
      ],
      "execution_count": 9,
      "outputs": [
        {
          "output_type": "stream",
          "text": [
            "313/313 [==============================] - 1s 2ms/step - loss: 0.6994 - accuracy: 0.7661\n"
          ],
          "name": "stdout"
        },
        {
          "output_type": "execute_result",
          "data": {
            "text/plain": [
              "[0.6993628144264221, 0.7660999894142151]"
            ]
          },
          "metadata": {
            "tags": []
          },
          "execution_count": 9
        }
      ]
    }
  ]
}