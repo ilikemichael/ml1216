{
  "nbformat": 4,
  "nbformat_minor": 0,
  "metadata": {
    "colab": {
      "name": "news.ipynb",
      "provenance": [],
      "collapsed_sections": [],
      "mount_file_id": "175cGX3ZUt3LRlaL1Wy79HG17EPhFYoy9",
      "authorship_tag": "ABX9TyMUUiI/grxxWCCdRHD5GnQk",
      "include_colab_link": true
    },
    "kernelspec": {
      "name": "python3",
      "display_name": "Python 3"
    }
  },
  "cells": [
    {
      "cell_type": "markdown",
      "metadata": {
        "id": "view-in-github",
        "colab_type": "text"
      },
      "source": [
        "<a href=\"https://colab.research.google.com/github/ilikemichael/ml1216/blob/main/news.ipynb\" target=\"_parent\"><img src=\"https://colab.research.google.com/assets/colab-badge.svg\" alt=\"Open In Colab\"/></a>"
      ]
    },
    {
      "cell_type": "code",
      "metadata": {
        "id": "L86H6wIEIzI6"
      },
      "source": [
        "# import pandas as pd\r\n",
        "# pd.options.display.max_rows = 1000\r\n",
        "# pd.options.display.max_colwidth =1000"
      ],
      "execution_count": 1,
      "outputs": []
    },
    {
      "cell_type": "code",
      "metadata": {
        "id": "C5WxMZPxA3XG"
      },
      "source": [
        "import zipfile\r\n",
        "f = zipfile.ZipFile(\"/content/drive/MyDrive/class/AI python/周凡剛機器學習/chinese_news_trans.zip\")\r\n",
        "f.extractall()\r\n",
        "f = zipfile.ZipFile(\"/content/drive/MyDrive/class/AI python/周凡剛機器學習/chinese_news_test.zip\")\r\n",
        "f.extractall()"
      ],
      "execution_count": 2,
      "outputs": []
    },
    {
      "cell_type": "code",
      "metadata": {
        "id": "e3gJ4_pJCTae"
      },
      "source": [
        "import os\r\n",
        "import glob\r\n",
        "import pandas as pd\r\n",
        "def load_data(base):\r\n",
        "    datas = {\r\n",
        "        \"content\":[],\r\n",
        "        \"category\":[]\r\n",
        "    }\r\n",
        "    for dn in glob.glob(\"{}/*\".format(base)):\r\n",
        "        small = os.path.join(dn, \"*.txt\")\r\n",
        "        big = os.path.join(dn, \"*.TXT\")\r\n",
        "        for fn in glob.glob(small) + glob.glob(big):\r\n",
        "            with open(fn, encoding=\"utf-8\") as f:\r\n",
        "                news = f.read()\r\n",
        "                datas[\"content\"].append(news)\r\n",
        "                cat = os.path.split(dn)[-1]\r\n",
        "                datas[\"category\"].append(cat)\r\n",
        "                #print(fn)\r\n",
        "    return pd.DataFrame(datas)\r\n",
        "train = load_data(\"chinese_news_trans\")\r\n",
        "test = load_data(\"chinese_news_test\")"
      ],
      "execution_count": null,
      "outputs": []
    },
    {
      "cell_type": "code",
      "metadata": {
        "colab": {
          "base_uri": "https://localhost:8080/",
          "height": 419
        },
        "id": "MqAkBO77E6ic",
        "outputId": "58a95a40-ad72-48cb-f894-6192aa88a3ef"
      },
      "source": [
        "test"
      ],
      "execution_count": 4,
      "outputs": [
        {
          "output_type": "execute_result",
          "data": {
            "text/html": [
              "<div>\n",
              "<style scoped>\n",
              "    .dataframe tbody tr th:only-of-type {\n",
              "        vertical-align: middle;\n",
              "    }\n",
              "\n",
              "    .dataframe tbody tr th {\n",
              "        vertical-align: top;\n",
              "    }\n",
              "\n",
              "    .dataframe thead th {\n",
              "        text-align: right;\n",
              "    }\n",
              "</style>\n",
              "<table border=\"1\" class=\"dataframe\">\n",
              "  <thead>\n",
              "    <tr style=\"text-align: right;\">\n",
              "      <th></th>\n",
              "      <th>content</th>\n",
              "      <th>category</th>\n",
              "    </tr>\n",
              "  </thead>\n",
              "  <tbody>\n",
              "    <tr>\n",
              "      <th>0</th>\n",
              "      <td>日月光華 -- Unix精華區文章閱讀\\n-------------------------...</td>\n",
              "      <td>計算機</td>\n",
              "    </tr>\n",
              "    <tr>\n",
              "      <th>1</th>\n",
              "      <td>日月光華 -- Virus精華區文章閱讀\\n------------------------...</td>\n",
              "      <td>計算機</td>\n",
              "    </tr>\n",
              "    <tr>\n",
              "      <th>2</th>\n",
              "      <td>日月光華 -- Programming精華區文章閱讀\\n------------------...</td>\n",
              "      <td>計算機</td>\n",
              "    </tr>\n",
              "    <tr>\n",
              "      <th>3</th>\n",
              "      <td>日月光華 -- Programming精華區文章閱讀\\n------------------...</td>\n",
              "      <td>計算機</td>\n",
              "    </tr>\n",
              "    <tr>\n",
              "      <th>4</th>\n",
              "      <td>日月光華 -- HackerVsSecurity精華區文章閱讀\\n-------------...</td>\n",
              "      <td>計算機</td>\n",
              "    </tr>\n",
              "    <tr>\n",
              "      <th>...</th>\n",
              "      <td>...</td>\n",
              "      <td>...</td>\n",
              "    </tr>\n",
              "    <tr>\n",
              "      <th>96</th>\n",
              "      <td>日月光華 -- Economics精華區文章閱讀\\n--------------------...</td>\n",
              "      <td>經濟</td>\n",
              "    </tr>\n",
              "    <tr>\n",
              "      <th>97</th>\n",
              "      <td>日月光華 -- Economics精華區文章閱讀\\n--------------------...</td>\n",
              "      <td>經濟</td>\n",
              "    </tr>\n",
              "    <tr>\n",
              "      <th>98</th>\n",
              "      <td>日月光華 -- Economics精華區文章閱讀\\n--------------------...</td>\n",
              "      <td>經濟</td>\n",
              "    </tr>\n",
              "    <tr>\n",
              "      <th>99</th>\n",
              "      <td>日月光華 -- Economics精華區文章閱讀\\n--------------------...</td>\n",
              "      <td>經濟</td>\n",
              "    </tr>\n",
              "    <tr>\n",
              "      <th>100</th>\n",
              "      <td>日月光華 -- Economics精華區文章閱讀\\n--------------------...</td>\n",
              "      <td>經濟</td>\n",
              "    </tr>\n",
              "  </tbody>\n",
              "</table>\n",
              "<p>101 rows × 2 columns</p>\n",
              "</div>"
            ],
            "text/plain": [
              "                                               content category\n",
              "0    日月光華 -- Unix精華區文章閱讀\\n-------------------------...      計算機\n",
              "1    日月光華 -- Virus精華區文章閱讀\\n------------------------...      計算機\n",
              "2    日月光華 -- Programming精華區文章閱讀\\n------------------...      計算機\n",
              "3    日月光華 -- Programming精華區文章閱讀\\n------------------...      計算機\n",
              "4    日月光華 -- HackerVsSecurity精華區文章閱讀\\n-------------...      計算機\n",
              "..                                                 ...      ...\n",
              "96   日月光華 -- Economics精華區文章閱讀\\n--------------------...       經濟\n",
              "97   日月光華 -- Economics精華區文章閱讀\\n--------------------...       經濟\n",
              "98   日月光華 -- Economics精華區文章閱讀\\n--------------------...       經濟\n",
              "99   日月光華 -- Economics精華區文章閱讀\\n--------------------...       經濟\n",
              "100  日月光華 -- Economics精華區文章閱讀\\n--------------------...       經濟\n",
              "\n",
              "[101 rows x 2 columns]"
            ]
          },
          "metadata": {
            "tags": []
          },
          "execution_count": 4
        }
      ]
    },
    {
      "cell_type": "code",
      "metadata": {
        "colab": {
          "base_uri": "https://localhost:8080/",
          "height": 35
        },
        "id": "I7r1QRBTJzus",
        "outputId": "38f9aba7-f1d6-4acf-9608-6b4f78b8f791"
      },
      "source": [
        "{1,2,4,7,3,6,7,1,2,4} #set 不會列出重複\r\n",
        "(255, 128, 100) #tuple簡化的字典,自動把位置當欄位\r\n",
        "s = \"banana\" #想把banana每個字串往後移兩格\r\n",
        "result = \"\"\r\n",
        "for c in s :\r\n",
        "    n = ord(c) + 2\r\n",
        "    n = (n-97) % 26 + 97\r\n",
        "    result = result + chr(n)\r\n",
        "result"
      ],
      "execution_count": 5,
      "outputs": [
        {
          "output_type": "execute_result",
          "data": {
            "application/vnd.google.colaboratory.intrinsic+json": {
              "type": "string"
            },
            "text/plain": [
              "'dcpcpc'"
            ]
          },
          "metadata": {
            "tags": []
          },
          "execution_count": 5
        }
      ]
    },
    {
      "cell_type": "code",
      "metadata": {
        "colab": {
          "base_uri": "https://localhost:8080/"
        },
        "id": "4TPKKaZwLabH",
        "outputId": "d6c5eb1b-b72e-4f56-d753-3ed7b79bf703"
      },
      "source": [
        "#字典的例子,假設有一個字典, 數a出現幾個\r\n",
        "dic = {\r\n",
        "    \"a\":5,\r\n",
        "    \"b\":10,\r\n",
        "    \"c\":20\r\n",
        "}\r\n",
        "new = {}\r\n",
        "for k, v in dic.items():\r\n",
        "    new[k.upper()] = v\r\n",
        "print(new)\r\n",
        "print({k.upper():v for k,v in dic.items()})\r\n"
      ],
      "execution_count": 6,
      "outputs": [
        {
          "output_type": "stream",
          "text": [
            "{'A': 5, 'B': 10, 'C': 20}\n",
            "{'A': 5, 'B': 10, 'C': 20}\n"
          ],
          "name": "stdout"
        }
      ]
    },
    {
      "cell_type": "code",
      "metadata": {
        "colab": {
          "base_uri": "https://localhost:8080/"
        },
        "id": "HtEV8qWoMcC6",
        "outputId": "a99943af-a139-419a-f1e4-11c116c6307c"
      },
      "source": [
        "#enmerate 練習\r\n",
        "for k in enumerate([30, 50, 60]):\r\n",
        "    print(k)\r\n",
        "{k:i for i, k in enumerate([20, 50, 60])}"
      ],
      "execution_count": 7,
      "outputs": [
        {
          "output_type": "stream",
          "text": [
            "(0, 30)\n",
            "(1, 50)\n",
            "(2, 60)\n"
          ],
          "name": "stdout"
        },
        {
          "output_type": "execute_result",
          "data": {
            "text/plain": [
              "{20: 0, 50: 1, 60: 2}"
            ]
          },
          "metadata": {
            "tags": []
          },
          "execution_count": 7
        }
      ]
    },
    {
      "cell_type": "code",
      "metadata": {
        "colab": {
          "base_uri": "https://localhost:8080/"
        },
        "id": "Ud2EMHMrQBI0",
        "outputId": "d4382ddf-56a2-45b2-89d6-33350210e273"
      },
      "source": [
        "#這裡開始jieba然後訓練模型\r\n",
        "#先把資料標籤數字化\r\n",
        "# Series: unique/value_counts\r\n",
        "writers = train[\"category\"].unique()\r\n",
        "trans = {n:i for i, n in enumerate(writers)}\r\n",
        "trans_r = {i:n for i, n in enumerate(writers)}\r\n",
        "# Series: replace\r\n",
        "y_train = train[\"category\"].replace(trans)\r\n",
        "y_test = test[\"category\"].replace(trans)\r\n",
        "y_test"
      ],
      "execution_count": 8,
      "outputs": [
        {
          "output_type": "execute_result",
          "data": {
            "text/plain": [
              "0      0\n",
              "1      0\n",
              "2      0\n",
              "3      0\n",
              "4      0\n",
              "      ..\n",
              "96     9\n",
              "97     9\n",
              "98     9\n",
              "99     9\n",
              "100    9\n",
              "Name: category, Length: 101, dtype: int64"
            ]
          },
          "metadata": {
            "tags": []
          },
          "execution_count": 8
        }
      ]
    },
    {
      "cell_type": "code",
      "metadata": {
        "id": "XKtouj1QUqaW"
      },
      "source": [
        "#找出jieba字典\r\n",
        "import jieba\r\n",
        "from urllib.request import urlretrieve\r\n",
        "url = \"https://github.com/fxsjy/jieba/raw/master/extra_dict/dict.txt.big\"\r\n",
        "urlretrieve(url, \"dict.txt.big\")\r\n",
        "jieba.set_dictionary(\"dict.txt.big\")"
      ],
      "execution_count": 9,
      "outputs": []
    },
    {
      "cell_type": "code",
      "metadata": {
        "colab": {
          "base_uri": "https://localhost:8080/"
        },
        "id": "3_6P60ZaUsaM",
        "outputId": "6ca1c67b-d098-4b9c-e22e-8bc870444ba0"
      },
      "source": [
        "#定義function newscut,jieba.cut\r\n",
        "def newscut(p):\r\n",
        "    return \" \".join(jieba.cut(p))\r\n",
        "x_train = train[\"content\"].apply(newscut)\r\n",
        "x_test = test[\"content\"].apply(newscut)\r\n",
        "x_test"
      ],
      "execution_count": 10,
      "outputs": [
        {
          "output_type": "stream",
          "text": [
            "Building prefix dict from /content/dict.txt.big ...\n",
            "Dumping model to file cache /tmp/jieba.u501edca284da514cb68b53a20324f4e3.cache\n",
            "Loading model cost 1.628 seconds.\n",
            "Prefix dict has been built successfully.\n"
          ],
          "name": "stderr"
        },
        {
          "output_type": "execute_result",
          "data": {
            "text/plain": [
              "0      日月 光華   --   Unix 精華區 文章 閱讀 \\n ---------------...\n",
              "1      日月 光華   --   Virus 精華區 文章 閱讀 \\n --------------...\n",
              "2      日月 光華   --   Programming 精華區 文章 閱讀 \\n --------...\n",
              "3      日月 光華   --   Programming 精華區 文章 閱讀 \\n --------...\n",
              "4      日月 光華   --   HackerVsSecurity 精華區 文章 閱讀 \\n ---...\n",
              "                             ...                        \n",
              "96     日月 光華   --   Economics 精華區 文章 閱讀 \\n ----------...\n",
              "97     日月 光華   --   Economics 精華區 文章 閱讀 \\n ----------...\n",
              "98     日月 光華   --   Economics 精華區 文章 閱讀 \\n ----------...\n",
              "99     日月 光華   --   Economics 精華區 文章 閱讀 \\n ----------...\n",
              "100    日月 光華   --   Economics 精華區 文章 閱讀 \\n ----------...\n",
              "Name: content, Length: 101, dtype: object"
            ]
          },
          "metadata": {
            "tags": []
          },
          "execution_count": 10
        }
      ]
    },
    {
      "cell_type": "code",
      "metadata": {
        "id": "ZvAopfshUvgE"
      },
      "source": [
        "#計算次數\r\n",
        "from sklearn.feature_extraction.text import CountVectorizer\r\n",
        "vec = CountVectorizer()\r\n",
        "x_train_count = vec.fit_transform(x_train)\r\n",
        "x_test_count = vec.transform(x_test)"
      ],
      "execution_count": 11,
      "outputs": []
    },
    {
      "cell_type": "code",
      "metadata": {
        "colab": {
          "base_uri": "https://localhost:8080/"
        },
        "id": "iP3DRgdwUxh8",
        "outputId": "1ab6033c-3b84-444b-ced0-5d63fdfb8255"
      },
      "source": [
        "#用統計訓練模型\r\n",
        "from sklearn.naive_bayes import MultinomialNB\r\n",
        "clf = MultinomialNB(alpha=0.01)\r\n",
        "clf.fit(x_train_count, y_train)"
      ],
      "execution_count": 12,
      "outputs": [
        {
          "output_type": "execute_result",
          "data": {
            "text/plain": [
              "MultinomialNB(alpha=0.01, class_prior=None, fit_prior=True)"
            ]
          },
          "metadata": {
            "tags": []
          },
          "execution_count": 12
        }
      ]
    },
    {
      "cell_type": "code",
      "metadata": {
        "colab": {
          "base_uri": "https://localhost:8080/"
        },
        "id": "9tXvguQMUzV8",
        "outputId": "140c84fa-98f0-4621-8f60-3def11c29f80"
      },
      "source": [
        "#預測正確分數\r\n",
        "from sklearn.metrics import accuracy_score\r\n",
        "pre = clf.predict(x_test_count)\r\n",
        "accuracy_score(pre, y_test)"
      ],
      "execution_count": 13,
      "outputs": [
        {
          "output_type": "execute_result",
          "data": {
            "text/plain": [
              "1.0"
            ]
          },
          "metadata": {
            "tags": []
          },
          "execution_count": 13
        }
      ]
    },
    {
      "cell_type": "code",
      "metadata": {
        "colab": {
          "base_uri": "https://localhost:8080/"
        },
        "id": "pvqjKeUpU1J9",
        "outputId": "5128059e-c4de-4aa6-e9ca-3e638d266fa3"
      },
      "source": [
        "#測試\r\n",
        "p = input(\"寫首新聞:\")\r\n",
        "p = [newscut(p)]\r\n",
        "count = vec.transform(p)\r\n",
        "prob = clf.predict_proba(count)[0]\r\n",
        "for w, pr in zip(writers, prob):\r\n",
        "    print(w, round(pr, 4))\r\n",
        "ans = clf.predict(count)[0]\r\n",
        "print(\"最可能是:\", writers[ans])"
      ],
      "execution_count": 14,
      "outputs": [
        {
          "output_type": "stream",
          "text": [
            "寫首新聞:綜合印度部分媒體報導，占星預言家阿南德過去預言提到黃金、石油、天然氣等價格會大幅上漲，但目前僅有金價大好，石油仍未從俄羅斯與沙烏地阿拉伯的石油之戰中，與各國用油量大減的衝擊下中復原，且天然氣、銀價格也下跌。  另外，阿南德引起關注的第三次大戰預言，表示會在今年上演，大戰主要是由美國、印度與伊朗、巴基斯坦在中東的地緣衝突，引爆全球戰事，不過今年緊張衝突中未有阿南德詳細描述的四國戰事，僅有美國狙殺伊朗重要高官，以及伊朗對美軍發射飛彈等零星戰事。  對此，就有不少言論指出，阿南德所預言內容，與多數預言家話術一樣，多以模糊籠統的指涉，好讓他們在事後面臨預言失準質疑之際，有很大空間得以自圓其說。   事實上，阿南德先前預言一一料中，包含世界將會發生大災難、中印邊境之上，比對時間都相當吻合，與他預言大致相合；接著上月又預言本月恐有「全球性災難」，如今英國發現變種的新冠病毒，也被網友認為是印證阿南德所說，但也有多數人認為不要過度迷信。\n",
            "計算機 0.0\n",
            "醫藥 0.0\n",
            "交通 0.0\n",
            "體育 0.0\n",
            "環境 0.0\n",
            "政治 0.0\n",
            "教育 0.0\n",
            "藝術 0.0\n",
            "軍事 0.0\n",
            "經濟 1.0\n",
            "最可能是: 經濟\n"
          ],
          "name": "stdout"
        }
      ]
    }
  ]
}