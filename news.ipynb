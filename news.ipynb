{
  "nbformat": 4,
  "nbformat_minor": 0,
  "metadata": {
    "colab": {
      "name": "news.ipynb",
      "provenance": [],
      "collapsed_sections": [],
      "mount_file_id": "175cGX3ZUt3LRlaL1Wy79HG17EPhFYoy9",
      "authorship_tag": "ABX9TyN3WzR3zHpQpWqjupzZ/ZIK",
      "include_colab_link": true
    },
    "kernelspec": {
      "name": "python3",
      "display_name": "Python 3"
    }
  },
  "cells": [
    {
      "cell_type": "markdown",
      "metadata": {
        "id": "view-in-github",
        "colab_type": "text"
      },
      "source": [
        "<a href=\"https://colab.research.google.com/github/ilikemichael/ml1216/blob/main/news.ipynb\" target=\"_parent\"><img src=\"https://colab.research.google.com/assets/colab-badge.svg\" alt=\"Open In Colab\"/></a>"
      ]
    },
    {
      "cell_type": "code",
      "metadata": {
        "id": "L86H6wIEIzI6"
      },
      "source": [
        "import pandas as pd\r\n",
        "pd.options.display.max_rows = 10\r\n",
        "pd.options.display.max_colwidth =10"
      ],
      "execution_count": 32,
      "outputs": []
    },
    {
      "cell_type": "code",
      "metadata": {
        "id": "C5WxMZPxA3XG"
      },
      "source": [
        "import zipfile\r\n",
        "f = zipfile.ZipFile(\"/content/drive/MyDrive/class/AI python/周凡剛機器學習/chinese_news_trans.zip\")\r\n",
        "f.extractall()\r\n",
        "f = zipfile.ZipFile(\"/content/drive/MyDrive/class/AI python/周凡剛機器學習/chinese_news_test.zip\")\r\n",
        "f.extractall()"
      ],
      "execution_count": 33,
      "outputs": []
    },
    {
      "cell_type": "code",
      "metadata": {
        "id": "e3gJ4_pJCTae"
      },
      "source": [
        "import os\r\n",
        "import glob\r\n",
        "import pandas as pd\r\n",
        "def load_data(base):\r\n",
        "    datas = {\r\n",
        "        \"content\":[],\r\n",
        "        \"category\":[]\r\n",
        "    }\r\n",
        "    for dn in glob.glob(\"{}/*\".format(base)):\r\n",
        "        small = os.path.join(dn, \"*.txt\")\r\n",
        "        big = os.path.join(dn, \"*.TXT\")\r\n",
        "        for fn in glob.glob(small) + glob.glob(big):\r\n",
        "            with open(fn, encoding=\"utf-8\") as f:\r\n",
        "                news = f.read()\r\n",
        "                datas[\"content\"].append(news)\r\n",
        "                cat = os.path.split(dn)[-1]\r\n",
        "                datas[\"category\"].append(cat)\r\n",
        "                print(fn)\r\n",
        "    return pd.DataFrame(datas)\r\n",
        "train = load_data(\"chinese_news_trans\")\r\n",
        "test = load_data(\"chinese_news_test\")"
      ],
      "execution_count": null,
      "outputs": []
    },
    {
      "cell_type": "code",
      "metadata": {
        "colab": {
          "base_uri": "https://localhost:8080/",
          "height": 419
        },
        "id": "MqAkBO77E6ic",
        "outputId": "e5adaf96-781a-4c05-e38f-c39f23419ea7"
      },
      "source": [
        "test"
      ],
      "execution_count": 35,
      "outputs": [
        {
          "output_type": "execute_result",
          "data": {
            "text/html": [
              "<div>\n",
              "<style scoped>\n",
              "    .dataframe tbody tr th:only-of-type {\n",
              "        vertical-align: middle;\n",
              "    }\n",
              "\n",
              "    .dataframe tbody tr th {\n",
              "        vertical-align: top;\n",
              "    }\n",
              "\n",
              "    .dataframe thead th {\n",
              "        text-align: right;\n",
              "    }\n",
              "</style>\n",
              "<table border=\"1\" class=\"dataframe\">\n",
              "  <thead>\n",
              "    <tr style=\"text-align: right;\">\n",
              "      <th></th>\n",
              "      <th>content</th>\n",
              "      <th>category</th>\n",
              "    </tr>\n",
              "  </thead>\n",
              "  <tbody>\n",
              "    <tr>\n",
              "      <th>0</th>\n",
              "      <td>日月光華 -...</td>\n",
              "      <td>計算機</td>\n",
              "    </tr>\n",
              "    <tr>\n",
              "      <th>1</th>\n",
              "      <td>日月光華 -...</td>\n",
              "      <td>計算機</td>\n",
              "    </tr>\n",
              "    <tr>\n",
              "      <th>2</th>\n",
              "      <td>日月光華 -...</td>\n",
              "      <td>計算機</td>\n",
              "    </tr>\n",
              "    <tr>\n",
              "      <th>3</th>\n",
              "      <td>日月光華 -...</td>\n",
              "      <td>計算機</td>\n",
              "    </tr>\n",
              "    <tr>\n",
              "      <th>4</th>\n",
              "      <td>日月光華 -...</td>\n",
              "      <td>計算機</td>\n",
              "    </tr>\n",
              "    <tr>\n",
              "      <th>...</th>\n",
              "      <td>...</td>\n",
              "      <td>...</td>\n",
              "    </tr>\n",
              "    <tr>\n",
              "      <th>96</th>\n",
              "      <td>日月光華 -...</td>\n",
              "      <td>經濟</td>\n",
              "    </tr>\n",
              "    <tr>\n",
              "      <th>97</th>\n",
              "      <td>日月光華 -...</td>\n",
              "      <td>經濟</td>\n",
              "    </tr>\n",
              "    <tr>\n",
              "      <th>98</th>\n",
              "      <td>日月光華 -...</td>\n",
              "      <td>經濟</td>\n",
              "    </tr>\n",
              "    <tr>\n",
              "      <th>99</th>\n",
              "      <td>日月光華 -...</td>\n",
              "      <td>經濟</td>\n",
              "    </tr>\n",
              "    <tr>\n",
              "      <th>100</th>\n",
              "      <td>日月光華 -...</td>\n",
              "      <td>經濟</td>\n",
              "    </tr>\n",
              "  </tbody>\n",
              "</table>\n",
              "<p>101 rows × 2 columns</p>\n",
              "</div>"
            ],
            "text/plain": [
              "       content category\n",
              "0    日月光華 -...      計算機\n",
              "1    日月光華 -...      計算機\n",
              "2    日月光華 -...      計算機\n",
              "3    日月光華 -...      計算機\n",
              "4    日月光華 -...      計算機\n",
              "..         ...      ...\n",
              "96   日月光華 -...       經濟\n",
              "97   日月光華 -...       經濟\n",
              "98   日月光華 -...       經濟\n",
              "99   日月光華 -...       經濟\n",
              "100  日月光華 -...       經濟\n",
              "\n",
              "[101 rows x 2 columns]"
            ]
          },
          "metadata": {
            "tags": []
          },
          "execution_count": 35
        }
      ]
    },
    {
      "cell_type": "code",
      "metadata": {
        "colab": {
          "base_uri": "https://localhost:8080/",
          "height": 35
        },
        "id": "I7r1QRBTJzus",
        "outputId": "afbcb729-7f43-4fe6-e50c-335b7a2dfe58"
      },
      "source": [
        "{1,2,4,7,3,6,7,1,2,4} #set 不會列出重複\r\n",
        "(255, 128, 100) #tuple簡化的字典,自動把位置當欄位\r\n",
        "s = \"banana\" #想把banana每個字串往後移兩格\r\n",
        "result = \"\"\r\n",
        "for c in s :\r\n",
        "    n = ord(c) + 2\r\n",
        "    n = (n-97) % 26 + 97\r\n",
        "    result = result + chr(n)\r\n",
        "result"
      ],
      "execution_count": 40,
      "outputs": [
        {
          "output_type": "execute_result",
          "data": {
            "application/vnd.google.colaboratory.intrinsic+json": {
              "type": "string"
            },
            "text/plain": [
              "'dcpcpc'"
            ]
          },
          "metadata": {
            "tags": []
          },
          "execution_count": 40
        }
      ]
    },
    {
      "cell_type": "code",
      "metadata": {
        "colab": {
          "base_uri": "https://localhost:8080/"
        },
        "id": "4TPKKaZwLabH",
        "outputId": "94ceb0ce-c00e-4264-f6b5-6cad5adb799e"
      },
      "source": [
        "#字典的例子,假設有一個字典, 數a出現幾個\r\n",
        "dic = {\r\n",
        "    \"a\":5,\r\n",
        "    \"b\":10,\r\n",
        "    \"c\":20\r\n",
        "}\r\n",
        "new = {}\r\n",
        "for k, v in dic.items():\r\n",
        "    new[k.upper()] = v\r\n",
        "print(new)\r\n",
        "print({k.upper():v for k,v in dic.items()})\r\n"
      ],
      "execution_count": 49,
      "outputs": [
        {
          "output_type": "stream",
          "text": [
            "{'A': 5, 'B': 10, 'C': 20}\n",
            "{'A': 5, 'B': 10, 'C': 20}\n"
          ],
          "name": "stdout"
        }
      ]
    },
    {
      "cell_type": "code",
      "metadata": {
        "colab": {
          "base_uri": "https://localhost:8080/"
        },
        "id": "HtEV8qWoMcC6",
        "outputId": "bb0dff4b-be5d-46b0-be62-01aca199b30a"
      },
      "source": [
        "#enmerate 練習\r\n",
        "for k in enumerate([30, 50, 60]):\r\n",
        "    print(k)\r\n",
        "{k:i for i, k in enumerate([20, 50, 60])}"
      ],
      "execution_count": 46,
      "outputs": [
        {
          "output_type": "stream",
          "text": [
            "(0, 30)\n",
            "(1, 50)\n",
            "(2, 60)\n"
          ],
          "name": "stdout"
        },
        {
          "output_type": "execute_result",
          "data": {
            "text/plain": [
              "{20: 0, 50: 1, 60: 2}"
            ]
          },
          "metadata": {
            "tags": []
          },
          "execution_count": 46
        }
      ]
    }
  ]
}