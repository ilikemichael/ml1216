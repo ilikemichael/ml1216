{
  "nbformat": 4,
  "nbformat_minor": 0,
  "metadata": {
    "colab": {
      "name": "classification.ipynb",
      "private_outputs": true,
      "provenance": [],
      "authorship_tag": "ABX9TyNrenTp6q3LjDRdY/De7CQr",
      "include_colab_link": true
    },
    "kernelspec": {
      "name": "python3",
      "display_name": "Python 3"
    },
    "accelerator": "GPU"
  },
  "cells": [
    {
      "cell_type": "markdown",
      "metadata": {
        "id": "view-in-github",
        "colab_type": "text"
      },
      "source": [
        "<a href=\"https://colab.research.google.com/github/ilikemichael/ml1216/blob/main/classification.ipynb\" target=\"_parent\"><img src=\"https://colab.research.google.com/assets/colab-badge.svg\" alt=\"Open In Colab\"/></a>"
      ]
    },
    {
      "cell_type": "markdown",
      "metadata": {
        "id": "XTddTF2vjox-"
      },
      "source": [
        "![註解](https://www.google.com/logos/doodles/2020/december-holidays-days-2-30-6753651837108830.3-law.gif)\r\n",
        "[請點我](https://www.google.com)\r\n",
        "\r\n",
        "$\\sum_{i=1}^{10}\\frac{ t_i}{2+x}$"
      ]
    },
    {
      "cell_type": "code",
      "metadata": {
        "id": "2bhVen9pEZYM"
      },
      "source": [
        "import pandas as pd\r\n",
        "from sklearn.datasets import load_iris\r\n",
        "iris = load_iris()\r\n",
        "df = pd.DataFrame(iris[\"data\"], \r\n",
        "       columns=iris[\"feature_names\"])\r\n",
        "df[\"ans\"] = iris[\"target\"]\r\n",
        "df.to_csv(\"iris.csv\", encoding=\"utf-8\", index=False)\r\n",
        "df"
      ],
      "execution_count": null,
      "outputs": []
    }
  ]
}