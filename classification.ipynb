{
  "nbformat": 4,
  "nbformat_minor": 0,
  "metadata": {
    "colab": {
      "name": "classification.ipynb",
      "private_outputs": true,
      "provenance": [],
      "authorship_tag": "ABX9TyPz3zvEhISXWhZcGivs3+7F",
      "include_colab_link": true
    },
    "kernelspec": {
      "name": "python3",
      "display_name": "Python 3"
    }
  },
  "cells": [
    {
      "cell_type": "markdown",
      "metadata": {
        "id": "view-in-github",
        "colab_type": "text"
      },
      "source": [
        "<a href=\"https://colab.research.google.com/github/ilikemichael/ml1216/blob/main/classification.ipynb\" target=\"_parent\"><img src=\"https://colab.research.google.com/assets/colab-badge.svg\" alt=\"Open In Colab\"/></a>"
      ]
    },
    {
      "cell_type": "markdown",
      "metadata": {
        "id": "XTddTF2vjox-"
      },
      "source": [
        "![註解](https://www.google.com/logos/doodles/2020/december-holidays-days-2-30-6753651837108830.3-law.gif)\r\n",
        "[請點我](https://www.google.com)\r\n",
        "\r\n",
        "$\\sum_{i=1}^{10}\\frac{ t_i}{2+x}$"
      ]
    },
    {
      "cell_type": "code",
      "metadata": {
        "id": "2bhVen9pEZYM"
      },
      "source": [
        "import pandas as pd\r\n",
        "from sklearn.datasets import load_iris\r\n",
        "iris = load_iris()\r\n",
        "df = pd.DataFrame(iris[\"data\"], \r\n",
        "       columns=iris[\"feature_names\"])\r\n",
        "df[\"ans\"] = iris[\"target\"]\r\n",
        "df.to_csv(\"iris.csv\", encoding=\"utf-8\", index=False)\r\n",
        "df"
      ],
      "execution_count": null,
      "outputs": []
    },
    {
      "cell_type": "markdown",
      "metadata": {
        "id": "i-P8RI6OKZTk"
      },
      "source": [
        "list, or pandas 全部改成 numpy"
      ]
    },
    {
      "cell_type": "code",
      "metadata": {
        "id": "-DX8lyTkKVQs"
      },
      "source": [
        "import numpy as np\r\n",
        "from sklearn.model_selection import train_test_split\r\n",
        "x = df.drop([\"ans\"], axis=1)\r\n",
        "y = df[\"ans\"]\r\n",
        "x, y = np.array(x), np.array(y)\r\n",
        "x_train, x_test, y_train, y_test = train_test_split(x, y, test_size=0.1)"
      ],
      "execution_count": null,
      "outputs": []
    },
    {
      "cell_type": "code",
      "metadata": {
        "id": "ijifeY9RPfPG"
      },
      "source": [
        "from sklearn.tree import DecisionTreeClassifier\r\n",
        "clf = DecisionTreeClassifier(max_depth=2)\r\n",
        "clf.fit(x_train, y_train)"
      ],
      "execution_count": null,
      "outputs": []
    },
    {
      "cell_type": "code",
      "metadata": {
        "id": "Y_CgLhGSTBaR"
      },
      "source": [
        "import matplotlib.pyplot as plt\r\n",
        "from sklearn.tree import plot_tree\r\n",
        "plt.figure(figsize=(10,10))\r\n",
        "tree = plot_tree(clf,\r\n",
        "          feature_names=iris[\"feature_names\"],\r\n",
        "          class_names=iris[\"target_names\"],\r\n",
        "          filled=True)\r\n",
        "plt.show()"
      ],
      "execution_count": null,
      "outputs": []
    },
    {
      "cell_type": "code",
      "metadata": {
        "id": "GbO57pY2bzUT"
      },
      "source": [
        "from sklearn.metrics import accuracy_score\r\n",
        "pre = clf.predict(x_test)\r\n",
        "accuracy_score(pre, y_test)"
      ],
      "execution_count": null,
      "outputs": []
    },
    {
      "cell_type": "code",
      "metadata": {
        "id": "dS5obLZ-NZyA"
      },
      "source": [
        "#train_test_split([1,2,3,4],[5,6,7,8],[9,10,11,12], test_size=0.1)"
      ],
      "execution_count": null,
      "outputs": []
    },
    {
      "cell_type": "code",
      "metadata": {
        "id": "9K0rjXi1LkS7"
      },
      "source": [
        "# a = [\"hello\"]*5\r\n",
        "# a = a.append(\"hello\")\r\n",
        "# print(a)\r\n",
        "# a.append(\"hello\")"
      ],
      "execution_count": null,
      "outputs": []
    }
  ]
}