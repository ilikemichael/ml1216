{
  "nbformat": 4,
  "nbformat_minor": 0,
  "metadata": {
    "colab": {
      "name": "Untitled0.ipynb",
      "private_outputs": true,
      "provenance": [],
      "authorship_tag": "ABX9TyM69sEVUIxiuN+fDe7jFaz3",
      "include_colab_link": true
    },
    "kernelspec": {
      "name": "python3",
      "display_name": "Python 3"
    },
    "accelerator": "GPU"
  },
  "cells": [
    {
      "cell_type": "markdown",
      "metadata": {
        "id": "view-in-github",
        "colab_type": "text"
      },
      "source": [
        "<a href=\"https://colab.research.google.com/github/ilikemichael/ml1216/blob/main/Untitled0.ipynb\" target=\"_parent\"><img src=\"https://colab.research.google.com/assets/colab-badge.svg\" alt=\"Open In Colab\"/></a>"
      ]
    },
    {
      "cell_type": "markdown",
      "metadata": {
        "id": "XTddTF2vjox-"
      },
      "source": [
        "![註解](https://www.google.com/logos/doodles/2020/december-holidays-days-2-30-6753651837108830.3-law.gif)\r\n",
        "[請點我](https://www.google.com)\r\n",
        "\r\n",
        "$\\sum_{i=1}^{10}\\frac{ t_i}{2+x}$"
      ]
    }
  ]
}